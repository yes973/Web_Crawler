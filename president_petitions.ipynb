{
 "cells": [
  {
   "cell_type": "markdown",
   "metadata": {},
   "source": [
    "서로 다른 두 직군(수의사, 간호사)의 청와대 국민청원 참여도와 SNS 채널별 참여양태를 분석하기 위해\n",
    "청와대 홈페이지(http://www.president.go.kr/)내 특정 URL을 지정해 댓글 리스트를 크롤링하고\n",
    "SNS채널을 구분해 시각화하는 코드입니다."
   ]
  },
  {
   "cell_type": "code",
   "execution_count": 1,
   "metadata": {},
   "outputs": [],
   "source": [
    "import re\n",
    "import json\n",
    "import math\n",
    "import datetime\n",
    "import requests\n",
    "import urllib.request\n",
    "import urllib.error\n",
    "import urllib.parse\n",
    "from bs4 import BeautifulSoup\n",
    "import pandas as pd\n",
    "import numpy as np\n",
    "from numpy import nan as NA\n",
    "from pandas import Series,DataFrame\n",
    "import csv\n",
    "from time import sleep\n",
    "from collections import Counter"
   ]
  },
  {
   "cell_type": "code",
   "execution_count": 3,
   "metadata": {},
   "outputs": [],
   "source": [
    "wg_ptn = r'naver|facebook|kakao|twitter'\n",
    "wg_regex = re.compile(wg_ptn)"
   ]
  },
  {
   "cell_type": "code",
   "execution_count": null,
   "metadata": {},
   "outputs": [],
   "source": [
    "kind_total=[]\n",
    "for page_num in range(1,1010):\n",
    "    response = urllib.request.urlopen('https://www1.president.go.kr/petitions/579646?page='+str(page_num))\n",
    "    #국민청원 페이지는 /petitions/고유번호 의 형식으로 구성되며\n",
    "    #?page=페이지번호 parameter로 댓글 페이지를 넘겨가면서 크롤링 할 수 있습니다.\n",
    "    response_body = response.read()\n",
    "    soup = BeautifulSoup(response_body.decode('utf-8'), 'html.parser')\n",
    "    kind_list = soup.select('#petitionsReply_area > div.petitionsReply_Reply > ul > li > div > div.pv3_R_contents_head > h4')\n",
    "    kind_total = kind_total + list(map(lambda x : wg_regex.search(str(x)).group(),kind_list))\n",
    "    #참여가능한 SNS채널 중 어느 하나가 검출되면, 해당 내용을 kind_total list에 삽입합니다.\n",
    "    print(str(page_num) + \" 쪽 작업완료\")\n",
    "    sleep(4)"
   ]
  },
  {
   "cell_type": "code",
   "execution_count": null,
   "metadata": {},
   "outputs": [],
   "source": [
    "kind_total #단순히 SNS 채널별 비율을 보기 위한 것이니, 1차원 list 형식으로 저장합니다."
   ]
  },
  {
   "cell_type": "code",
   "execution_count": 18,
   "metadata": {},
   "outputs": [],
   "source": [
    "# vet.txt에 \\n을 기준으로 한 txt 파일로 결과를 저장해둡니다.\n",
    "with open('C:\\\\Users\\\\Username\\\\president_analysis\\\\vet.txt', 'w') as file:\n",
    "    for item in kind_total:\n",
    "        file.write(\"%s\\n\" % item)\n",
    "#저장한 결과는 나중에 다시 변수로 불러올 수도 있습니다.\n",
    "with open('C:\\\\Users\\\\Username\\\\president_analysis\\\\vet.txt', 'r') as file:\n",
    "    kind_total = [line.strip() for line in file]"
   ]
  },
  {
   "cell_type": "code",
   "execution_count": 24,
   "metadata": {},
   "outputs": [
    {
     "data": {
      "text/plain": [
       "Counter({'facebook': 567, 'naver': 6288, 'kakao': 3076, 'twitter': 159})"
      ]
     },
     "execution_count": 24,
     "metadata": {},
     "output_type": "execute_result"
    }
   ],
   "source": [
    "Counter(kind_total) #Counter 모듈로 간단히 수치를 확인할 수 있습니다."
   ]
  },
  {
   "cell_type": "code",
   "execution_count": null,
   "metadata": {},
   "outputs": [],
   "source": [
    "#이번에는 간호사 청원의 결과를 크롤링합니다. 기본적인 형식은 수의사쪽 코드와 같습니다.\n",
    "nurse_kind_total=[]\n",
    "for page_num in range(1,7550):\n",
    "    response = urllib.request.urlopen('https://www1.president.go.kr/petitions/529259?page='+str(page_num))\n",
    "    response_body = response.read()\n",
    "    soup = BeautifulSoup(response_body.decode('utf-8'), 'html.parser')\n",
    "    nurse_kind_list = soup.select('#petitionsReply_area > div.petitionsReply_Reply > ul > li > div > div.pv3_R_contents_head > h4')\n",
    "    nurse_kind_total = nurse_kind_total + list(map(lambda x : wg_regex.search(str(x)).group(),nurse_kind_list))\n",
    "    print(str(page_num) + \" 쪽 작업완료\")\n",
    "    sleep(1)"
   ]
  },
  {
   "cell_type": "code",
   "execution_count": 71,
   "metadata": {},
   "outputs": [
    {
     "data": {
      "image/png": "[encoded data removed]",
      "text/plain": [
       "<Figure size 1440x360 with 2 Axes>"
      ]
     },
     "metadata": {
      "needs_background": "light"
     },
     "output_type": "display_data"
    }
   ],
   "source": [
    "#subplot을 나누고 두 개의 데이터에 대해 barplot을 그려봅니다.\n",
    "\n",
    "import matplotlib.pyplot as plt\n",
    "plt.rc('font', family='nanumsquare')\n",
    "\n",
    "fig, (ax1,ax2) = plt.subplots(ncols=2, figsize=(20,5))\n",
    "\n",
    "keys1 = Counter(kind_total).keys()\n",
    "pos1 = np.arange(len(Counter(kind_total).keys()))\n",
    "performance1 = np.fromiter(Counter(kind_total).values(), dtype=int)\n",
    "\n",
    "keys2 = Counter(nurse_kind_total).keys()\n",
    "pos2 = np.arange(len(Counter(nurse_kind_total).keys()))\n",
    "performance2 = np.fromiter(Counter(nurse_kind_total).values(), dtype=int)\n",
    "\n",
    "ax1.barh(pos1, performance1, align='center',color='green',height=0.3)\n",
    "ax1.set_yticks(pos1)\n",
    "ax1.set_yticklabels(keys1)\n",
    "ax1.invert_yaxis()  # labels read top-to-bottom\n",
    "ax1.set_xlabel('청원 횟수')\n",
    "ax1.set_title('대한민국 올바른 동물병원 진료비 개선과\\n동물보호법 개정에 대해 청원합니다')\n",
    "\n",
    "ax2.barh(pos2, performance2, align='center',color='blue', height=0.3)\n",
    "ax2.set_yticks(pos2)\n",
    "ax2.set_yticklabels(keys2)\n",
    "ax2.invert_yaxis()  # labels read top-to-bottom\n",
    "ax2.set_xlabel('청원 횟수')\n",
    "ax2.set_title('이제 그만 간호조무사가 의료인 및 간호사의\\n권리침해하는 것을 막아주세요')\n",
    "\n",
    "\n",
    "plt.show()"
   ]
  }
 ],
 "metadata": {
  "kernelspec": {
   "display_name": "Python 3",
   "language": "python",
   "name": "python3"
  },
  "language_info": {
   "codemirror_mode": {
    "name": "ipython",
    "version": 3
   },
   "file_extension": ".py",
   "mimetype": "text/x-python",
   "name": "python",
   "nbconvert_exporter": "python",
   "pygments_lexer": "ipython3",
   "version": "3.6.9"
  }
 },
 "nbformat": 4,
 "nbformat_minor": 2
}
